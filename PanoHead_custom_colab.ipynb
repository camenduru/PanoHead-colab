{
  "cells": [
    {
      "cell_type": "code",
      "execution_count": null,
      "metadata": {
        "id": "c-JdJwOaMWiS",
        "collapsed": true
      },
      "outputs": [],
      "source": [
        "%cd /content\n",
        "!mkdir /content/in /content/stage /content/output\n",
        "!git clone -b dev1 https://github.com/camenduru/PanoHead\n",
        "\n",
        "!apt -y install -qq aria2\n",
        "!aria2c --console-log-level=error -c -x 16 -s 16 -k 1M https://huggingface.co/camenduru/PanoHead/resolve/main/ablation-trigridD-1-025000.pkl -d /content/PanoHead/models -o ablation-trigridD-1-025000.pkl\n",
        "!aria2c --console-log-level=error -c -x 16 -s 16 -k 1M https://huggingface.co/camenduru/PanoHead/resolve/main/baseline-easy-khair-025000.pkl -d /content/PanoHead/models -o baseline-easy-khair-025000.pkl\n",
        "!aria2c --console-log-level=error -c -x 16 -s 16 -k 1M https://huggingface.co/camenduru/PanoHead/resolve/main/easy-khair-180-gpc0.8-trans10-025000.pkl -d /content/PanoHead/models -o easy-khair-180-gpc0.8-trans10-025000.pkl\n",
        "\n",
        "!pip install imgui glfw pyspng mrcfile ninja plyfile trimesh onnxruntime onnx\n",
        "\n",
        "%cd /content\n",
        "!git clone -b dev https://github.com/camenduru/3DDFA_V2\n",
        "%cd /content/3DDFA_V2\n",
        "!sh ./build.sh\n",
        "\n",
        "!cp -rf /content/PanoHead/3DDFA_V2_cropping/test /content/3DDFA_V2\n",
        "!cp /content/PanoHead/3DDFA_V2_cropping/dlib_kps.py /content/3DDFA_V2\n",
        "!cp /content/PanoHead/3DDFA_V2_cropping/recrop_images.py /content/3DDFA_V2\n",
        "\n",
        "!aria2c --console-log-level=error -c -x 16 -s 16 -k 1M https://huggingface.co/camenduru/shape_predictor_68_face_landmarks/resolve/main/shape_predictor_68_face_landmarks.dat -d /content/3DDFA_V2 -o shape_predictor_68_face_landmarks.dat\n",
        "\n"
      ]
    },
    {
      "cell_type": "code",
      "execution_count": null,
      "metadata": {
        "id": "CNjBZHu4GS9v"
      },
      "outputs": [],
      "source": [
        "%cd /content/3DDFA_V2\n",
        "!rm -rf /content/stage/* /content/3DDFA_V2/crop_samples/img/* /content/3DDFA_V2/test/original/* /content/output/*\n",
        "!cp /content/in/* /content/3DDFA_V2/test/original\n",
        "\n",
        "!python dlib_kps.py\n",
        "!python recrop_images.py -i data.pkl -j dataset.json\n",
        "\n",
        "!cp -rf /content/3DDFA_V2/crop_samples/img/* /content/stage\n",
        "\n",
        "# %cd /content/PanoHead\n",
        "# !./gen_pti_script.sh"
      ]
    },
    {
      "cell_type": "code",
      "execution_count": null,
      "metadata": {
        "id": "4UvRp5ISGS9v"
      },
      "outputs": [],
      "source": [
        "%cd /content/PanoHead\n",
        "!python projector_withseg.py --num-steps=400 --num-steps-pti=400 --outdir=/content/output --target_img=/content/stage --network=/content/PanoHead/models/easy-khair-180-gpc0.8-trans10-025000.pkl --idx 0"
      ]
    },
    {
      "cell_type": "code",
      "execution_count": null,
      "metadata": {
        "id": "raOj_LhiGS9v"
      },
      "outputs": [],
      "source": [
        "%cd /content/PanoHead\n",
        "!python gen_videos_proj_withseg.py --output=/content/output/easy-khair-180-gpc0.8-trans10-025000.pkl/0/PTI_render/pre.mp4 --latent=/content/output/easy-khair-180-gpc0.8-trans10-025000.pkl/0/projected_w.npz --trunc 0.7 --network /content/PanoHead/models/easy-khair-180-gpc0.8-trans10-025000.pkl --cfg Head"
      ]
    },
    {
      "cell_type": "code",
      "execution_count": null,
      "metadata": {
        "id": "GbV41gL9GS9w"
      },
      "outputs": [],
      "source": [
        "%cd /content/PanoHead\n",
        "!python gen_videos_proj_withseg.py --output=/content/output/easy-khair-180-gpc0.8-trans10-025000.pkl/0/PTI_render/post.mp4 --latent=/content/output/easy-khair-180-gpc0.8-trans10-025000.pkl/0/projected_w.npz --trunc 0.7 --network /content/output/easy-khair-180-gpc0.8-trans10-025000.pkl/0/fintuned_generator.pkl --cfg Head --shapes 1 #--nrr 256"
      ]
    },
    {
      "cell_type": "code",
      "source": [
        "%cd /content/PanoHead\n",
        "!python shape_utils.py /content/output/easy-khair-180-gpc0.8-trans10-025000.pkl/0/PTI_render/ --level 25"
      ],
      "metadata": {
        "id": "eZwL3cQcmpvt"
      },
      "execution_count": null,
      "outputs": []
    },
    {
      "cell_type": "code",
      "source": [
        "!export CUDA_LAUNCH_BLOCKING=1"
      ],
      "metadata": {
        "id": "6UoU_xoQJQ84"
      },
      "execution_count": null,
      "outputs": []
    }
  ],
  "metadata": {
    "accelerator": "GPU",
    "colab": {
      "gpuType": "T4",
      "provenance": []
    },
    "kernelspec": {
      "display_name": "Python 3",
      "name": "python3"
    },
    "language_info": {
      "name": "python"
    }
  },
  "nbformat": 4,
  "nbformat_minor": 0
}